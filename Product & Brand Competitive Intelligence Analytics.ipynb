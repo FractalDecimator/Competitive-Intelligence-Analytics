{
 "cells": [
  {
   "cell_type": "markdown",
   "metadata": {
    "application/vnd.databricks.v1+cell": {
     "cellMetadata": {},
     "inputWidgets": {},
     "nuid": "b26f3e52-afa5-4e64-a711-488d76064b59",
     "showTitle": false,
     "tableResultSettingsMap": {},
     "title": ""
    }
   },
   "source": [
    "**1. Ingest Bright Amazon Datasets**"
   ]
  },
  {
   "cell_type": "code",
   "execution_count": 0,
   "metadata": {
    "application/vnd.databricks.v1+cell": {
     "cellMetadata": {
      "byteLimit": 2048000,
      "rowLimit": 10000
     },
     "inputWidgets": {},
     "nuid": "f9032c2f-98a3-453d-ade2-ef40b7c63fc2",
     "showTitle": false,
     "tableResultSettingsMap": {},
     "title": ""
    }
   },
   "outputs": [],
   "source": [
    "# Load data \n",
    "products_df = spark.read.table(\"bright_data_amazon_best_seller_products_reviews_products_dataset.datasets.amazon_best_seller_products\")\n",
    "reviews_df = spark.read.table(\"bright_data_amazon_best_seller_products_reviews_products_dataset.datasets.amazon_reviews\")\n",
    "inventory_df = spark.read.table(\"bright_data_amazon_best_seller_products_reviews_products_dataset.datasets.amazon_products\")"
   ]
  },
  {
   "cell_type": "markdown",
   "metadata": {
    "application/vnd.databricks.v1+cell": {
     "cellMetadata": {},
     "inputWidgets": {},
     "nuid": "b4664f69-41c9-4da2-9479-739f10d3ad4c",
     "showTitle": false,
     "tableResultSettingsMap": {},
     "title": ""
    }
   },
   "source": [
    "**2. Data Exploration & Profiling**"
   ]
  },
  {
   "cell_type": "code",
   "execution_count": 0,
   "metadata": {
    "application/vnd.databricks.v1+cell": {
     "cellMetadata": {
      "byteLimit": 2048000,
      "rowLimit": 10000
     },
     "inputWidgets": {},
     "nuid": "a04b48c8-e9e6-4b72-93b6-e41a92e8d7f9",
     "showTitle": false,
     "tableResultSettingsMap": {},
     "title": ""
    }
   },
   "outputs": [],
   "source": [
    "# Display basic stats and Quick Profile\n",
    "display(products_df)\n",
    "dbutils.data.summarize(products_df)"
   ]
  },
  {
   "cell_type": "markdown",
   "metadata": {
    "application/vnd.databricks.v1+cell": {
     "cellMetadata": {},
     "inputWidgets": {},
     "nuid": "c08ff017-fc04-4f92-9c99-cf9fa2f160bb",
     "showTitle": false,
     "tableResultSettingsMap": {},
     "title": ""
    }
   },
   "source": [
    "**3. Comparative Brand Analysis**"
   ]
  },
  {
   "cell_type": "code",
   "execution_count": 0,
   "metadata": {
    "application/vnd.databricks.v1+cell": {
     "cellMetadata": {
      "byteLimit": 2048000,
      "rowLimit": 10000
     },
     "inputWidgets": {},
     "nuid": "075a06ff-5c77-4f3c-ba7b-8a71d0e99c0b",
     "showTitle": false,
     "tableResultSettingsMap": {},
     "title": ""
    }
   },
   "outputs": [],
   "source": [
    "# Aggregate brand performance\n",
    "from pyspark.sql.functions import avg, count, col\n",
    "from pyspark.sql.functions import expr\n",
    "\n",
    "brand_summary = products_df.groupBy(\"brand\").agg(\n",
    "    avg(col(\"final_price\")).alias(\"avg_price\"),\n",
    "    count(col(\"title\")).alias(\"num_products\"),\n",
    "    avg(\n",
    "        expr(\"try_cast(root_bs_rank as double)\")\n",
    "    ).alias(\"avg_ranking\")\n",
    ")\n",
    "\n",
    "display(brand_summary.orderBy(\"avg_ranking\"))"
   ]
  },
  {
   "cell_type": "code",
   "execution_count": 0,
   "metadata": {
    "application/vnd.databricks.v1+cell": {
     "cellMetadata": {
      "byteLimit": 2048000,
      "rowLimit": 10000
     },
     "inputWidgets": {},
     "nuid": "41862702-4a18-407a-9f20-5108988b9635",
     "showTitle": false,
     "tableResultSettingsMap": {},
     "title": ""
    }
   },
   "outputs": [],
   "source": [
    "# Drop rows with any null values in products_df\n",
    "products_df_clean = products_df.na.drop()\n",
    "display(products_df_clean)"
   ]
  },
  {
   "cell_type": "code",
   "execution_count": 0,
   "metadata": {
    "application/vnd.databricks.v1+cell": {
     "cellMetadata": {
      "byteLimit": 2048000,
      "rowLimit": 10000
     },
     "inputWidgets": {},
     "nuid": "46842992-9b24-4aeb-9f04-512452a0a38c",
     "showTitle": false,
     "tableResultSettingsMap": {},
     "title": ""
    }
   },
   "outputs": [],
   "source": [
    "# Split 'categories' column into multiple columns: category_1, category_2, etc.\n",
    "from pyspark.sql.functions import split, expr\n",
    "\n",
    "max_categories = 5\n",
    "\n",
    "split_cols = [\n",
    "    expr(f\"try_element_at(split(categories, ','), {i+1})\").alias(f\"category_{i+1}\")\n",
    "    for i in range(max_categories)\n",
    "]\n",
    "\n",
    "products_with_categories = products_df.select(\"*\", *split_cols)\n",
    "\n",
    "display(products_with_categories)"
   ]
  },
  {
   "cell_type": "code",
   "execution_count": 0,
   "metadata": {
    "application/vnd.databricks.v1+cell": {
     "cellMetadata": {
      "byteLimit": 2048000,
      "rowLimit": 10000
     },
     "inputWidgets": {},
     "nuid": "e870d8ab-6c6f-4544-905f-7e50927e0e4c",
     "showTitle": false,
     "tableResultSettingsMap": {},
     "title": ""
    }
   },
   "outputs": [],
   "source": [
    "# Drop null values from Category 5 column\n",
    "products_with_categories_no_null = products_with_categories.na.drop(subset=[\"category_5\"])\n",
    "display(products_with_categories_no_null)"
   ]
  },
  {
   "cell_type": "code",
   "execution_count": 0,
   "metadata": {
    "application/vnd.databricks.v1+cell": {
     "cellMetadata": {
      "byteLimit": 2048000,
      "implicitDf": true,
      "rowLimit": 10000
     },
     "inputWidgets": {},
     "nuid": "d86b4da4-9659-486a-be2c-42e06228b030",
     "showTitle": false,
     "tableResultSettingsMap": {},
     "title": ""
    }
   },
   "outputs": [],
   "source": [
    "%sql\n",
    "-- Compare top brands in a category using category_1 to category_5 columns\n",
    "SELECT\n",
    "  brand,\n",
    "  COUNT(title) AS products,\n",
    "  AVG(final_price) AS avg_price,\n",
    "  AVG(TRY_CAST(root_bs_rank AS DOUBLE)) AS avg_ranking\n",
    "FROM (\n",
    "  SELECT *,\n",
    "    TRY_ELEMENT_AT(SPLIT(categories, ','), 1) AS category_1,\n",
    "    TRY_ELEMENT_AT(SPLIT(categories, ','), 2) AS category_2,\n",
    "    TRY_ELEMENT_AT(SPLIT(categories, ','), 3) AS category_3,\n",
    "    TRY_ELEMENT_AT(SPLIT(categories, ','), 4) AS category_4,\n",
    "    TRY_ELEMENT_AT(SPLIT(categories, ','), 5) AS category_5\n",
    "  FROM bright_data_amazon_best_seller_products_reviews_products_dataset.datasets.amazon_best_seller_products\n",
    ")\n",
    "WHERE category_1 = 'Electronics'\n",
    "   OR category_2 = 'Electronics'\n",
    "   OR category_3 = 'Electronics'\n",
    "   OR category_4 = 'Electronics'\n",
    "   OR category_5 = 'Electronics'\n",
    "GROUP BY brand\n",
    "ORDER BY avg_ranking ASC\n",
    "LIMIT 10"
   ]
  },
  {
   "cell_type": "code",
   "execution_count": 0,
   "metadata": {
    "application/vnd.databricks.v1+cell": {
     "cellMetadata": {
      "byteLimit": 2048000,
      "rowLimit": 10000
     },
     "inputWidgets": {},
     "nuid": "4b7aaebc-98de-4cf5-8f29-2f735dcc91a9",
     "showTitle": false,
     "tableResultSettingsMap": {},
     "title": ""
    }
   },
   "outputs": [],
   "source": [
    "#Drop null from Average ranking column\n",
    "brand_summary_no_null = brand_summary.na.drop(subset=[\"avg_ranking\"])\n",
    "display(brand_summary_no_null.orderBy(\"avg_ranking\"))"
   ]
  },
  {
   "cell_type": "code",
   "execution_count": 0,
   "metadata": {
    "application/vnd.databricks.v1+cell": {
     "cellMetadata": {
      "byteLimit": 2048000,
      "rowLimit": 10000
     },
     "inputWidgets": {},
     "nuid": "f4c69c14-7832-4d90-85c1-885b7b21b061",
     "showTitle": false,
     "tableResultSettingsMap": {},
     "title": ""
    }
   },
   "outputs": [],
   "source": [
    "# Extract stock count from Availability column\n",
    "from pyspark.sql.functions import when, regexp_extract, col\n",
    "\n",
    "availability_count = (\n",
    "    when(col(\"availability\") == \"In Stock\", 1)\n",
    "    .when(\n",
    "        col(\"availability\").rlike(r\"Only \\d+ left\"),\n",
    "        regexp_extract(col(\"availability\"), r\"Only (\\d+) left\", 1).cast(\"int\")\n",
    "    )\n",
    "    .otherwise(0)\n",
    ")\n",
    "\n",
    "inventory_df = inventory_df.withColumn(\n",
    "    \"availability_count\",\n",
    "    availability_count\n",
    ")\n",
    "\n",
    "display(inventory_df.select(\"availability\", \"availability_count\"))"
   ]
  },
  {
   "cell_type": "markdown",
   "metadata": {
    "application/vnd.databricks.v1+cell": {
     "cellMetadata": {},
     "inputWidgets": {},
     "nuid": "3b49bc14-ed47-46ee-82c1-2229a152f1a1",
     "showTitle": false,
     "tableResultSettingsMap": {},
     "title": ""
    }
   },
   "source": [
    "**4. Price & Inventory Dynamics Over Time**"
   ]
  },
  {
   "cell_type": "code",
   "execution_count": 0,
   "metadata": {
    "application/vnd.databricks.v1+cell": {
     "cellMetadata": {
      "byteLimit": 2048000,
      "rowLimit": 10000
     },
     "inputWidgets": {},
     "nuid": "d201e1d6-a91d-43ae-8dfa-fb89c454f929",
     "showTitle": false,
     "tableResultSettingsMap": {
      "0": {
       "dataGridStateBlob": "{\"version\":1,\"tableState\":{\"columnPinning\":{\"left\":[\"#row_number#\"],\"right\":[]},\"columnSizing\":{},\"columnVisibility\":{}},\"settings\":{\"columns\":{}},\"syncTimestamp\":1759051544797}",
       "filterBlob": null,
       "queryPlanFiltersBlob": null,
       "tableResultIndex": 0
      }
     },
     "title": ""
    }
   },
   "outputs": [],
   "source": [
    "# Track price/inventory changes over time\n",
    "inv_trends = (\n",
    "    inventory_df.withColumn(\n",
    "        \"date_first_available\",\n",
    "        to_date(\"timestamp\")\n",
    "    )\n",
    "    .groupBy(\n",
    "        \"brand\",\n",
    "        \"date_first_available\"\n",
    "    )\n",
    "    .agg(\n",
    "        avg(\"final_price\").alias(\"avg_price\"),\n",
    "        avg(\"availability_count\").alias(\"avg_stock\")  # Replace 'stock' with your actual inventory column name\n",
    "    )\n",
    ")\n",
    "display(inv_trends)\n"
   ]
  },
  {
   "cell_type": "markdown",
   "metadata": {
    "application/vnd.databricks.v1+cell": {
     "cellMetadata": {},
     "inputWidgets": {},
     "nuid": "9f652f09-7f28-4dff-8b43-aec670b92215",
     "showTitle": false,
     "tableResultSettingsMap": {},
     "title": ""
    }
   },
   "source": [
    "**5. Review Sentiment Analytics**"
   ]
  },
  {
   "cell_type": "code",
   "execution_count": 0,
   "metadata": {
    "application/vnd.databricks.v1+cell": {
     "cellMetadata": {
      "byteLimit": 2048000,
      "rowLimit": 10000
     },
     "inputWidgets": {},
     "nuid": "268c4231-ef5c-4f60-8e41-a5a698829a58",
     "showTitle": false,
     "tableResultSettingsMap": {},
     "title": ""
    }
   },
   "outputs": [],
   "source": [
    "# Simple sentiment based on review rating\n",
    "from pyspark.sql.functions import avg, count\n",
    "\n",
    "sentiment_summary = reviews_df.groupBy(\"brand\") \\\n",
    "    .agg(\n",
    "        avg(\"rating\").alias(\"avg_rating\"),\n",
    "        count(\"*\").alias(\"num_reviews\")\n",
    "    )\n",
    "display(sentiment_summary)"
   ]
  },
  {
   "cell_type": "markdown",
   "metadata": {
    "application/vnd.databricks.v1+cell": {
     "cellMetadata": {},
     "inputWidgets": {},
     "nuid": "15b64a56-ef2e-4b3b-aac2-d5f8becc80df",
     "showTitle": false,
     "tableResultSettingsMap": {},
     "title": ""
    }
   },
   "source": [
    "**6. Visualize Competitive Positioning**"
   ]
  },
  {
   "cell_type": "code",
   "execution_count": 0,
   "metadata": {
    "application/vnd.databricks.v1+cell": {
     "cellMetadata": {
      "byteLimit": 2048000,
      "rowLimit": 10000
     },
     "inputWidgets": {},
     "nuid": "2c122200-5c93-49a6-829c-16ea760a1fbe",
     "showTitle": false,
     "tableResultSettingsMap": {},
     "title": ""
    }
   },
   "outputs": [],
   "source": [
    "# Plot competitive scatter of avg price vs avg review rating\n",
    "# Aggregate average price and product count per brand\n",
    "brand_summary = (\n",
    "    products_df.groupBy(\"brand\")\n",
    "    .agg(\n",
    "        avg(\"final_price\").alias(\"avg_price\"),\n",
    "        count(\"*\").alias(\"num_products\")\n",
    "    )\n",
    ")\n",
    "\n",
    "# Join with sentiment_summary and display as scatter plot\n",
    "brand_report = brand_summary.join(sentiment_summary, \"brand\")\n",
    "\n",
    "import seaborn as sns\n",
    "import matplotlib.pyplot as plt\n",
    "\n",
    "brand_pd = brand_report.select(\n",
    "    \"brand\",\n",
    "    \"avg_price\",\n",
    "    \"avg_rating\",\n",
    "    \"num_products\"\n",
    ").toPandas()\n",
    "\n",
    "plt.figure(figsize=(10, 6))\n",
    "scatter = sns.scatterplot(\n",
    "    data=brand_pd,\n",
    "    x=\"avg_price\",\n",
    "    y=\"avg_rating\",\n",
    "    size=\"num_products\",\n",
    "    hue=\"num_products\",\n",
    "    palette=\"viridis\",\n",
    "    legend=\"brief\",\n",
    "    sizes=(20, 200)\n",
    ")\n",
    "plt.xlabel(\"Average Price\")\n",
    "plt.ylabel(\"Average Review Rating\")\n",
    "plt.title(\"Brand Competitive Positioning: Avg Price vs Avg Review Rating\")\n",
    "plt.legend(title=\"Num Products\", bbox_to_anchor=(1.05, 1), loc='upper left')\n",
    "plt.tight_layout()\n",
    "display(plt.gcf())\n",
    "plt.close()"
   ]
  },
  {
   "cell_type": "markdown",
   "metadata": {
    "application/vnd.databricks.v1+cell": {
     "cellMetadata": {},
     "inputWidgets": {},
     "nuid": "20f004ac-326b-4a4b-88ec-dfa73eead629",
     "showTitle": false,
     "tableResultSettingsMap": {},
     "title": ""
    }
   },
   "source": []
  }
 ],
 "metadata": {
  "application/vnd.databricks.v1+notebook": {
   "computePreferences": null,
   "dashboards": [],
   "environmentMetadata": {
    "base_environment": "",
    "environment_version": "3"
   },
   "inputWidgetPreferences": null,
   "language": "python",
   "notebookMetadata": {
    "mostRecentlyExecutedCommandWithImplicitDF": {
     "commandId": 5875396846783408,
     "dataframes": [
      "_sqldf"
     ]
    },
    "pythonIndentUnit": 4
   },
   "notebookName": "Product & Brand Competitive Intelligence Analytics",
   "widgets": {}
  },
  "language_info": {
   "name": "python"
  }
 },
 "nbformat": 4,
 "nbformat_minor": 0
}
